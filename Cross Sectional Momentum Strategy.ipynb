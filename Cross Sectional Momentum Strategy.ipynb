{
 "cells": [
  {
   "cell_type": "markdown",
   "metadata": {
    "colab_type": "text",
    "id": "XkROSSvzPvMI"
   },
   "source": [
    "# Notebook Instructions\n",
    "\n",
    "1. All the <u>code and data files</u> used in this course are available in the downloadable unit of the <u>last section of this course</u>.\n",
    "2. You can run the notebook document sequentially (one cell at a time) by pressing **shift + enter**. \n",
    "3. While a cell is running, a [*] is shown on the left. After the cell is run, the output will appear on the next line.\n",
    "\n",
    "This course is based on specific versions of python packages. You can find the details of the packages in <a href='https://quantra.quantinsti.com/quantra-notebook' target=\"_blank\" >this manual</a>."
   ]
  },
  {
   "cell_type": "markdown",
   "metadata": {
    "colab_type": "text",
    "id": "aCD8AP03PvMJ"
   },
   "source": [
    "# Cross sectional momentum strategy\n",
    "\n",
    "Cross sectional momentum is trend based investment strategy, where you can choose top 'n' percentile to go long and bottom 'n' percentile to go short from the universe of assets. Considering future outperformance of a stock is predicated by its outperformance relative to its peers.\n",
    "\n",
    "\n",
    "In this notebook, you will perform the following steps:\n",
    "\n",
    "1. [Read price and volume data](#read)\n",
    "2. [Filter the stocks](#filter)\n",
    "3. [Cross sectional momentum strategy](#logic)<br>\n",
    " 3.1. [Long short momentum strategy](#strategy1)<br>\n",
    " 3.2. [Long short momentum strategy with skip-days](#strategy2)<br>\n",
    " 3.3. [Long only momentum strategy](#strategy3)<br>"
   ]
  },
  {
   "cell_type": "markdown",
   "metadata": {
    "colab_type": "text",
    "id": "9s2DAceL_jxP"
   },
   "source": [
    "<a id='read'></a> \n",
    "\n",
    "## Read price and volume data\n",
    "\n",
    "You will read the pickle file, which stores the S&P 500 stocks price and volume data. This data is available in the downloadable unit of this course in the last section. You can also download SPY stocks price and volume data from finance.yahoo.com.\n",
    "\n",
    "Syntax: \n",
    "```python\n",
    "import pandas as pd\n",
    "pd.read_pickle(filename)\n",
    "```\n",
    "Parameter:\n",
    "    1. filename: name of the file in the string format"
   ]
  },
  {
   "cell_type": "code",
   "execution_count": 1,
   "metadata": {
    "colab": {
     "base_uri": "https://localhost:8080/",
     "height": 357
    },
    "colab_type": "code",
    "id": "hyfV0did_jxV",
    "outputId": "4a630169-09a0-4915-8cfd-1cb92ce10638",
    "scrolled": true
   },
   "outputs": [],
   "source": [
    "# Import pandas and numpy\n",
    "import pandas as pd\n",
    "import numpy as np\n",
    "\n",
    "# Import matplotlib and set the style\n",
    "import matplotlib.pyplot as plt\n",
    "%matplotlib inline\n",
    "plt.style.use('seaborn-darkgrid')\n",
    "\n",
    "# The data is stored in the directory 'data'\n",
    "path = '../data/'\n",
    "\n",
    "def read_data(filename):\n",
    "    data = pd.read_pickle(path+filename)\n",
    "    return data\n",
    "\n",
    "# Read price and volume data\n",
    "stocks_price = read_data('spy_stocks_price_2010_2020.bz2')\n",
    "stocks_volume = read_data('spy_stocks_volume_2010_2020.bz2')"
   ]
  },
  {
   "cell_type": "markdown",
   "metadata": {
    "colab_type": "text",
    "id": "qteSPDbuPvMr"
   },
   "source": [
    "<a id='filter'></a> \n",
    "## Filter the stocks\n",
    "\n",
    "1. Multiply price and volume over 'n' periods \n",
    "2. Take an average or mean of the above product to get average dollar volume\n",
    "3. Average dollar volume or average daily turnover (defined as number of shares traded to the number of shares outstanding) are used to predict the magnitude and the persistence of future price momentum\n",
    "4. Momentum is stronger among high average turnover or average dollar volume stocks"
   ]
  },
  {
   "cell_type": "code",
   "execution_count": 2,
   "metadata": {
    "scrolled": true
   },
   "outputs": [
    {
     "data": {
      "text/plain": [
       "Index(['AAPL', 'BAC', 'C', 'GS', 'GOOGL', 'JPM', 'MSFT', 'XOM', 'AMZN', 'INTC',\n",
       "       'F', 'GE', 'WFC', 'CSCO', 'FCX', 'QCOM', 'BRK-B', 'PFE', 'ORCL', 'SLB',\n",
       "       'IBM', 'WMT', 'JNJ', 'CVX', 'PG', 'MS', 'HPQ', 'GILD', 'T', 'LVS',\n",
       "       'HAL', 'MRK', 'CAT', 'HD', 'KO', 'EBAY', 'COP', 'AIG', 'VZ', 'AXP', 'V',\n",
       "       'DIS', 'MGM', 'MCD', 'NEM', 'ANTM', 'PEP', 'UNH', 'MU', 'BA', 'ABT',\n",
       "       'AMGN', 'OXY', 'MA', 'APA', 'CMCSA', 'CVS', 'TXN', 'AMAT', 'RTX',\n",
       "       'MDLZ', 'PNC', 'USB', 'LOW', 'NVDA', 'MMM', 'DVN', 'ADBE', 'BKNG',\n",
       "       'UPS', 'FDX', 'BAX', 'TGT', 'BMY', 'DD', 'MOS', 'EOG', 'COF', 'BSX',\n",
       "       'GLW', 'PM', 'BBY', 'SCHW', 'NOV', 'HIG', 'DE', 'MSI', 'WBA', 'AMD',\n",
       "       'UNP', 'MET', 'STT', 'ISRG', 'MDT', 'SBUX', 'UAL', 'TRV', 'BK', 'HES',\n",
       "       'HON'],\n",
       "      dtype='object')"
      ]
     },
     "execution_count": 2,
     "metadata": {},
     "output_type": "execute_result"
    }
   ],
   "source": [
    "# Filter the top 100 stocks\n",
    "filtered_stocks = (stocks_price[:90] * stocks_volume[:90]\n",
    "                   ).mean().sort_values(ascending=False).index[:100]\n",
    "\n",
    "filtered_stocks_prices = stocks_price[filtered_stocks].dropna()\n",
    "\n",
    "# Print columns of the filtered_stocks_prices dataframe\n",
    "filtered_stocks"
   ]
  },
  {
   "cell_type": "markdown",
   "metadata": {
    "colab_type": "text",
    "id": "6JvK4LBNPvMy"
   },
   "source": [
    "<a id='logic'></a> \n",
    "## Cross sectional momentum strategy\n",
    "\n",
    "We backtest the strategies tweaking the parameters in 3 ways:\n",
    "\n",
    "1. **Long short:** Consider a 180 day lookback period over which we measure the asset's past performance or rank the relative performance, and 41 day holding period with generated trading signals\n",
    "2. **Long short with skip period**: For the above strategy we add 5 skip_days between the lookback and the holding periods, to safeguard against any microstructure effects (bid-ask spread, lead-lag effect, short-term price pressure) affecting the inference\n",
    "3. **Long only**: Only long trading signals are generated for top 20 percentile with above-used lookback, holding and skip periods"
   ]
  },
  {
   "cell_type": "markdown",
   "metadata": {
    "colab_type": "text",
    "id": "LJH8ByloIwLm"
   },
   "source": [
    "<a id='strategy1'></a> \n",
    "## Long-short cross-sectional momentum strategy\n",
    "\n",
    "Long trading signals are generated for top 10 percentile and short signals for bottom 10 percentile with <br>\n",
    "a. Lookback days = 180 <br>\n",
    "b. Holding days = 41\n",
    "\n",
    "**Strategy logic:**\n",
    "1. Calculate the stock returns over the lookback period and holding period\n",
    "2. Rank the stock returns based on the lookback returns\n",
    "3. Long stocks with highest 10 percentile lookback retuns and short stocks with lowest 10 percentile lookback returns\n",
    "4. Include trading cost\n",
    "5. Calculate the strategy returns "
   ]
  },
  {
   "cell_type": "code",
   "execution_count": 3,
   "metadata": {
    "colab": {},
    "colab_type": "code",
    "id": "OnPI6dIwPvMy"
   },
   "outputs": [],
   "source": [
    "def strategy(prices, lookback_days, hold_days):\n",
    "\n",
    "    # Calculate stock returns for the given lookback period\n",
    "    lookback_returns = prices.pct_change(lookback_days)\n",
    "\n",
    "    # Calculate returns based on the given holding period\n",
    "    hold_returns = prices.pct_change(hold_days).shift(-hold_days)\n",
    "\n",
    "    # Returns 100 as we have chosen 100 stocks in step 2\n",
    "    n = len(lookback_returns.columns)\n",
    "\n",
    "    # Rank each of the stocks for each date based on the lookback_returns\n",
    "    lookback_rank = lookback_returns.dropna().rank(axis=1)\n",
    "\n",
    "    # Generate signal \"1\" for rank >90 and \"-1\" for rank <10\n",
    "    def signal(rank):\n",
    "        signal = np.where(rank > n*9/10, 1, np.nan)\n",
    "        signal = np.where(rank < n/10, -1, signal)\n",
    "        return signal\n",
    "\n",
    "    # Apply the signal function to lookback_rank and generate a new dataframe lookback_signal\n",
    "    lookback_signal = lookback_rank.apply(signal, axis=0)\n",
    "\n",
    "    # Calculate stock returns with hold_returns * lookback_signal after selecting the rows without NaNs from both the dataframes\n",
    "    stocks_returns = hold_returns[lookback_days::hold_days] * \\\n",
    "        lookback_signal[::hold_days]\n",
    "\n",
    "    trading_signal = lookback_signal[::hold_days]\n",
    "    trading_signal = trading_signal.replace(np.nan, 0)\n",
    "\n",
    "    # Calculate trading cost when you square off the position and calculate the net stock_returns\n",
    "    cost = (0.001 * np.abs(trading_signal - trading_signal.shift(1)))\n",
    "    stocks_returns = stocks_returns - cost\n",
    "\n",
    "    # Calculate portfolio returns\n",
    "    portfolio_returns = stocks_returns.mean(axis=1)\n",
    "\n",
    "    # Calculate sharpe ratio\n",
    "    sharpe = np.mean(portfolio_returns) / \\\n",
    "        np.std(portfolio_returns)*((252/hold_days)**0.5)\n",
    "    print('Sharpe Ratio %.2f' % sharpe)\n",
    "\n",
    "    # Calculate and plot cumulative portfolio returns\n",
    "    (portfolio_returns+1).cumprod().plot(figsize=(10, 7))\n",
    "    plt.ylabel('Strategy Returns', fontsize=12)\n",
    "    plt.title('Long Short CS Strategy Returns', fontsize=14)\n",
    "    plt.show()"
   ]
  },
  {
   "cell_type": "code",
   "execution_count": 4,
   "metadata": {
    "colab": {
     "base_uri": "https://localhost:8080/",
     "height": 446
    },
    "colab_type": "code",
    "id": "TA17pRwkPvM3",
    "outputId": "745e2fed-97ae-4f19-a300-fe94f21eab9f",
    "scrolled": true
   },
   "outputs": [
    {
     "name": "stdout",
     "output_type": "stream",
     "text": [
      "Sharpe Ratio 0.61\n"
     ]
    },
    {
     "data": {
      "image/png": "[encoded data removed]",
      "text/plain": [
       "<Figure size 720x504 with 1 Axes>"
      ]
     },
     "metadata": {
      "needs_background": "light"
     },
     "output_type": "display_data"
    }
   ],
   "source": [
    "# Call the function strategy with below inputs\n",
    "lookback_days = 180\n",
    "hold_days = 41\n",
    "strategy(filtered_stocks_prices, lookback_days, hold_days)"
   ]
  },
  {
   "cell_type": "markdown",
   "metadata": {
    "colab_type": "text",
    "id": "Mpw82ettPvM8"
   },
   "source": [
    "<a id='strategy2'></a> \n",
    "## Long-short cross-sectional momentum strategy with skip-days\n",
    "\n",
    "Long trading signals are generated for top 10 percentile and short signals for bottom 10 percentile with <br>\n",
    "a. Lookback days = 175 <br> \n",
    "b. Skip days = 5 <br> \n",
    "c. Holding days = 41\n",
    "\n",
    "**Strategy logic:**\n",
    "1. Calculate the stock returns over the lookback period by skipping 1 week (to avoid short term price reversal) and holding period. \n",
    "2. Rank the stock returns based on the lookback returns\n",
    "3. Long stocks with highest 10 percentile lookback retuns and short stocks with lowest 10 percentile lookback returns\n",
    "4. Include transation cost\n",
    "5. Calculate the strategy returns "
   ]
  },
  {
   "cell_type": "code",
   "execution_count": 5,
   "metadata": {
    "colab": {},
    "colab_type": "code",
    "id": "sN3cMlFYPvM8"
   },
   "outputs": [],
   "source": [
    "def strategy_skip_recent(prices, lookback_days, skip_days, hold_days):\n",
    "\n",
    "    # Calculate stock returns for the given lookback period with skip_days\n",
    "    lookback_returns = prices.pct_change(lookback_days).shift(skip_days)\n",
    "    hold_returns = prices.pct_change(hold_days).shift(-hold_days)\n",
    "\n",
    "    n = len(lookback_returns.columns)\n",
    "    lookback_rank = lookback_returns.dropna().rank(axis=1)\n",
    "\n",
    "    def signal(rank):\n",
    "        signal = np.where(rank > n*9/10, 1, np.nan)\n",
    "        signal = np.where(rank < n/10, -1, signal)\n",
    "        return signal\n",
    "\n",
    "    lookback_signal = lookback_rank.apply(signal, axis=0)\n",
    "\n",
    "    stocks_returns = hold_returns[lookback_days +\n",
    "                                  skip_days::hold_days] * lookback_signal[::hold_days]\n",
    "\n",
    "    trading_signal = lookback_signal[::hold_days]\n",
    "    trading_signal = trading_signal.replace(np.nan, 0)\n",
    "    cost = (0.001 * np.abs(trading_signal - trading_signal.shift(1)))\n",
    "    stocks_returns = stocks_returns - cost\n",
    "\n",
    "    portfolio_returns = stocks_returns.mean(axis=1)\n",
    "\n",
    "    sharpe = np.mean(portfolio_returns) / \\\n",
    "        np.std(portfolio_returns)*((252/hold_days)**0.5)\n",
    "    print('Sharpe Ratio %.2f' % sharpe)\n",
    "\n",
    "    (portfolio_returns+1).cumprod().plot(figsize=(10, 7))\n",
    "    plt.ylabel('Strategy Returns', fontsize=12)\n",
    "    plt.title('Long Short Skip CS Strategy Returns', fontsize=14)\n",
    "    plt.show()\n",
    "    return portfolio_returns"
   ]
  },
  {
   "cell_type": "code",
   "execution_count": 6,
   "metadata": {
    "colab": {
     "base_uri": "https://localhost:8080/",
     "height": 446
    },
    "colab_type": "code",
    "id": "3e8otubKPvM_",
    "outputId": "59d37dc7-d181-4955-f8d8-f920b71d76ca",
    "scrolled": false
   },
   "outputs": [
    {
     "name": "stdout",
     "output_type": "stream",
     "text": [
      "Sharpe Ratio 0.76\n"
     ]
    },
    {
     "data": {
      "image/png": "[encoded data removed]",
      "text/plain": [
       "<Figure size 720x504 with 1 Axes>"
      ]
     },
     "metadata": {
      "needs_background": "light"
     },
     "output_type": "display_data"
    }
   ],
   "source": [
    "# Call the function strategy_skip_recent with below inputs\n",
    "lookback_days = 175\n",
    "skip_days = 5\n",
    "hold_days = 41\n",
    "portfolio_returns = strategy_skip_recent(\n",
    "    filtered_stocks_prices, lookback_days, skip_days, hold_days)"
   ]
  },
  {
   "cell_type": "markdown",
   "metadata": {
    "colab_type": "text",
    "id": "NzlZCyMLPvNC"
   },
   "source": [
    "<a id='strategy3'></a> \n",
    "## Long-only cross-sectional momentum strategy\n",
    "\n",
    "Long only strategy on top 20 percentile stocks with <br> \n",
    "a. Lookback days = 175 <br>\n",
    "b. Skip days = 5 <br>\n",
    "c. Holding days = 41\n",
    "\n",
    "**Strategy logic:**\n",
    "1. Calculate the stock returns over the lookback period by skipping 1 week (to avoid short term price reversal) and holding period. \n",
    "2. Rank the stock returns based on the lookback returns\n",
    "3. Long stocks with highest 20 percentile lookback retuns\n",
    "4. Include trading cost\n",
    "5. Calculate the strategy returns "
   ]
  },
  {
   "cell_type": "code",
   "execution_count": 7,
   "metadata": {
    "colab": {},
    "colab_type": "code",
    "id": "jkqx-iHZPvND"
   },
   "outputs": [],
   "source": [
    "def strategy_long_only(prices, lookback_days, skip_days, hold_days):\n",
    "    lookback_returns = prices.pct_change(lookback_days).shift(skip_days)\n",
    "    hold_returns = prices.pct_change(hold_days).shift(-hold_days)\n",
    "\n",
    "    n = len(lookback_returns.columns)\n",
    "    lookback_rank = lookback_returns.dropna().rank(axis=1)\n",
    "\n",
    "    def signal(rank):\n",
    "\n",
    "        # Generate signal \"1\" for rank >80\n",
    "        signal = np.where(rank > n*8/10, 1, np.nan)\n",
    "        return signal\n",
    "\n",
    "    lookback_signal = lookback_rank.apply(signal, axis=0)\n",
    "\n",
    "    stocks_returns = hold_returns[lookback_days +\n",
    "                                  skip_days::hold_days] * lookback_signal[::hold_days]\n",
    "\n",
    "    trading_signal = lookback_signal[::hold_days]\n",
    "    trading_signal = trading_signal.replace(np.nan, 0)\n",
    "    cost = (0.001 * np.abs(trading_signal - trading_signal.shift(1)))\n",
    "    stocks_returns = stocks_returns - cost\n",
    "\n",
    "    portfolio_returns = stocks_returns.mean(axis=1)\n",
    "\n",
    "    sharpe = np.mean(portfolio_returns) / \\\n",
    "        np.std(portfolio_returns)*((252/hold_days)**0.5)\n",
    "    print('Sharpe Ratio %.2f' % sharpe)\n",
    "\n",
    "    (portfolio_returns+1).cumprod().plot(figsize=(10, 7))\n",
    "    plt.ylabel('Strategy Returns', fontsize=12)\n",
    "    plt.title('Long Only CS Strategy Returns', fontsize=14)\n",
    "    plt.show()\n",
    "\n",
    "    return portfolio_returns"
   ]
  },
  {
   "cell_type": "code",
   "execution_count": 8,
   "metadata": {
    "colab": {
     "base_uri": "https://localhost:8080/",
     "height": 446
    },
    "colab_type": "code",
    "id": "nbcxDKidPvNG",
    "outputId": "8e7a3b5f-3d34-43da-8fc4-55615fbf3ad5",
    "scrolled": true
   },
   "outputs": [
    {
     "name": "stdout",
     "output_type": "stream",
     "text": [
      "Sharpe Ratio 1.18\n"
     ]
    },
    {
     "data": {
      "image/png": "[encoded data removed]",
      "text/plain": [
       "<Figure size 720x504 with 1 Axes>"
      ]
     },
     "metadata": {
      "needs_background": "light"
     },
     "output_type": "display_data"
    }
   ],
   "source": [
    "# Call the function strategy_long_only with below inputs\n",
    "lookback_days = 175\n",
    "skip_days = 5\n",
    "hold_days = 41\n",
    "portfolio_returns = strategy_long_only(\n",
    "    filtered_stocks_prices, lookback_days, skip_days, hold_days)\n",
    "\n",
    "portfolio_returns = portfolio_returns.dropna()"
   ]
  },
  {
   "cell_type": "markdown",
   "metadata": {
    "colab_type": "text",
    "id": "iJ3ajwAnxk7i"
   },
   "source": [
    "We can see that strategy had generated better returns when we introduced skip period. Long only momentum strategy performs even better than long short momentum with skip days but this strategy is slightly risky because it is exposed to market risks.\n",
    "\n",
    "We will be focusing on cross sectional momentum strategies using fundamental data in the next section.<br><br>"
   ]
  }
 ],
 "metadata": {
  "colab": {
   "collapsed_sections": [],
   "name": "Cross_Sectional_Momentum_Strategy.ipynb",
   "provenance": []
  },
  "kernelspec": {
   "display_name": "Python 3",
   "language": "python",
   "name": "python3"
  },
  "language_info": {
   "codemirror_mode": {
    "name": "ipython",
    "version": 3
   },
   "file_extension": ".py",
   "mimetype": "text/x-python",
   "name": "python",
   "nbconvert_exporter": "python",
   "pygments_lexer": "ipython3",
   "version": "3.7.4"
  }
 },
 "nbformat": 4,
 "nbformat_minor": 1
}
